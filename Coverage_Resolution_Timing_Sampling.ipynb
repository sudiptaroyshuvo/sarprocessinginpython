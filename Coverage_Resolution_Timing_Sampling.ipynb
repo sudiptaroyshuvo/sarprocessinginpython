{
  "nbformat": 4,
  "nbformat_minor": 0,
  "metadata": {
    "colab": {
      "provenance": [],
      "authorship_tag": "ABX9TyMu6zGtF/RXB9XR8h4INXea",
      "include_colab_link": true
    },
    "kernelspec": {
      "name": "python3",
      "display_name": "Python 3"
    },
    "language_info": {
      "name": "python"
    }
  },
  "cells": [
    {
      "cell_type": "markdown",
      "metadata": {
        "id": "view-in-github",
        "colab_type": "text"
      },
      "source": [
        "<a href=\"https://colab.research.google.com/github/sudiptaroyshuvo/sarprocessinginpython/blob/main/Coverage_Resolution_Timing_Sampling.ipynb\" target=\"_parent\"><img src=\"https://colab.research.google.com/assets/colab-badge.svg\" alt=\"Open In Colab\"/></a>"
      ]
    },
    {
      "cell_type": "code",
      "execution_count": null,
      "metadata": {
        "colab": {
          "base_uri": "https://localhost:8080/"
        },
        "id": "FMDcYVQDd520",
        "outputId": "ecb9f7b5-37af-4bce-d182-b6c5877db4ee"
      },
      "outputs": [
        {
          "output_type": "stream",
          "name": "stdout",
          "text": [
            "/usr/bin/python3\n"
          ]
        }
      ],
      "source": [
        "import sys\n",
        "print(sys.executable)"
      ]
    },
    {
      "cell_type": "code",
      "source": [
        "import scipy.constants as constants\n",
        "import matplotlib.pyplot as plt\n",
        "import numpy as np"
      ],
      "metadata": {
        "id": "7QpJqFVZeM-y"
      },
      "execution_count": null,
      "outputs": []
    },
    {
      "cell_type": "markdown",
      "source": [
        "Assuming a flat scene (i.e., a scene with flat topography), calculate and show the relationship between look and incident angles for an airborne and a spaceborne systems flying at 3 km and 514 km height, respectively. What can you observe? How is it related to the acquisition geometry"
      ],
      "metadata": {
        "id": "ZEzyw4PgeYjN"
      }
    },
    {
      "cell_type": "code",
      "source": [
        "# Define a function that computes the range distance r0 and the incidence angle given the acquisition geometry\n",
        "# inputs: rE   - Earth radius\n",
        "#         h    - platform altitude\n",
        "#         look - look angle\n",
        "\n",
        "def compute_r0_thetainc(rE, h, theta_look):\n",
        "    b    = (rE + h) * 2 * np.cos(theta_look)\n",
        "    c    = -(rE**2 - (rE + h)**2)\n",
        "    r0   = (b - np.sqrt(b**2 - 4 * c)) * 0.5\n",
        "    theta_inc   = np.arccos(((rE + h)**2 - rE**2 - r0**2)/(2 * r0 * rE))\n",
        "    return r0, theta_inc"
      ],
      "metadata": {
        "id": "ONOAOuoredyp"
      },
      "execution_count": null,
      "outputs": []
    },
    {
      "cell_type": "code",
      "source": [
        "rE   = 6371.e3  # Earth radius\n",
        "N    = 1024\n",
        "theta_look = (0. + np.arange(N) / N * 65.) * np.pi / 180.\n",
        "\n",
        "## compute incidence angle\n",
        "# airborne system\n",
        "hAir = 3e3\n",
        "\n",
        "\n",
        "_, theta_inc_air = compute_r0_thetainc(rE,hAir,theta_look)\n",
        "\n",
        "# spaceborne system\n",
        "hSat = 514.e3\n",
        "\n",
        "_, theta_inc_spc = compute_r0_thetainc(rE,hSat,theta_look)\n",
        "\n",
        "plt.figure()\n",
        "plt.title('Airborne geometry')\n",
        "plt.plot(theta_look * 180. / np.pi, theta_inc_air * 180. / np.pi, 'r', lw = 4)\n",
        "plt.xlabel('Look angle [deg]')\n",
        "plt.ylabel('Incident angle [deg]')\n",
        "plt.grid()\n",
        "\n",
        "plt.figure()\n",
        "plt.title('Spaceborne geometry')\n",
        "plt.plot(theta_look * 180. / np.pi, theta_inc_spc * 180. / np.pi, 'r', lw = 4)\n",
        "plt.xlabel('Look angle [deg]')\n",
        "plt.ylabel('Incident angle [deg]')\n",
        "plt.grid()\n",
        "plt.show()"
      ],
      "metadata": {
        "colab": {
          "base_uri": "https://localhost:8080/",
          "height": 573
        },
        "id": "sN7pDUOIer9a",
        "outputId": "7245990d-f998-4c3d-be6b-23e915ca09d8"
      },
      "execution_count": null,
      "outputs": [
        {
          "output_type": "display_data",
          "data": {
            "text/plain": [
              "<Figure size 432x288 with 1 Axes>"
            ],
            "image/png": "[encoded data removed]"
          },
          "metadata": {
            "needs_background": "light"
          }
        },
        {
          "output_type": "display_data",
          "data": {
            "text/plain": [
              "<Figure size 432x288 with 1 Axes>"
            ],
            "image/png": "[encoded data removed]"
          },
          "metadata": {
            "needs_background": "light"
          }
        }
      ]
    },
    {
      "cell_type": "markdown",
      "source": [
        "For the airborne system, the incident angle and look angle are identical. For low lying aircraft, the effect of curvature is negligible. For this reason, the surface looks flat.\n",
        "\n",
        "The incident angle is always larger than look angle for spaceborne system because of the the effect of curvature."
      ],
      "metadata": {
        "id": "NP44DBwge0pC"
      }
    },
    {
      "cell_type": "markdown",
      "source": [
        "An airborne side-looking radar flying at 3000 m illuminates a swath with look angles ranging from 20 deg (near range) to 60 deg (far range). Compute the exact swath and express the percentual error with respect to its approximation. Discuss whether the approximation is acceptable and relate your observations to the plot in excercise 1."
      ],
      "metadata": {
        "id": "3F5yomE4e4cX"
      }
    },
    {
      "cell_type": "code",
      "source": [
        "hAir = 3.e3     \n",
        "rE   = 6371.e3  # Earth radius\n",
        "\n",
        "N    = 1024\n",
        "theta_look = np.arange(20,60,40/N) * np.pi / 180.\n",
        "\n",
        "## compute range distance and incidence angle\n",
        "\n",
        "r0, theta_inc = compute_r0_thetainc(rE,hAir,theta_look)\n",
        "\n",
        "## compute swath using the precise formula\n",
        "\n",
        "swath_air = hAir*(np.tan(np.max(theta_inc))-np.tan(np.min(theta_inc)))\n",
        "\n",
        "# compute swath approximation\n",
        "theta_el = np.max(theta_inc) - np.min(theta_inc)\n",
        "idx = int(r0.size/2)\n",
        "swath_approx = r0[idx] * theta_el / np.sin(theta_inc[idx])\n",
        "\n",
        "print(np.min(theta_inc)*180/np.pi)\n",
        "print(np.max(theta_inc)*180/np.pi)\n",
        "print((np.min(theta_inc)-theta_look[0])/theta_look[0]*100)\n",
        "print((np.max(theta_inc)-theta_look[1023])/theta_look[1023]*100)\n",
        "\n",
        "print('Swath airborne:')\n",
        "print(swath_air)\n",
        "print('Swath airborne approximated:')\n",
        "print(swath_approx)\n",
        "print('Approximation error in percentage:')\n",
        "print(abs(swath_air - swath_approx)/swath_air * 100)\n"
      ],
      "metadata": {
        "colab": {
          "base_uri": "https://localhost:8080/"
        },
        "id": "oI8cbR38e-Jy",
        "outputId": "e518f9b5-ec31-433a-9c9b-e767e06157c9"
      },
      "execution_count": null,
      "outputs": [
        {
          "output_type": "stream",
          "name": "stdout",
          "text": [
            "20.009820095212298\n",
            "60.00762703532369\n",
            "0.04910047606148134\n",
            "0.07786658659847775\n",
            "Swath airborne:\n",
            "4105.257160018027\n",
            "Swath airborne approximated:\n",
            "4251.87899614548\n",
            "Approximation error in percentage:\n",
            "3.5715627648234674\n"
          ]
        }
      ]
    },
    {
      "cell_type": "markdown",
      "source": [
        "For Airborne system:\n",
        "\n",
        "In swath approximation calculation, we use θ_elevation which is the subtraction of maximum and minimum incident angle. If we see the look angle for respective incident angle it is clearly visible that the incident angle for near and far range is almost samilar as the look angles (20 deg. and 60 deg.). And the difference is 0.05% to 0.07%. So the approximation is acceptable."
      ],
      "metadata": {
        "id": "lcJnn0TDfSkI"
      }
    },
    {
      "cell_type": "markdown",
      "source": [
        "Compute the value of the swath of a spaceborne side-looking radar flying at 514 km and imaging a swath with the same range of look angles as in excercise 2. Express the error of the approximation and discuss the results. Relate your observations to the plot in excercise 1."
      ],
      "metadata": {
        "id": "76T4ygCsfVpy"
      }
    },
    {
      "cell_type": "code",
      "source": [
        "hSat = 514.e3\n",
        "rE   = 6371.e3  # Earth radius\n",
        "\n",
        "N    = 1024\n",
        "theta_look = np.arange(20, 60, 40/N) * np.pi / 180.\n",
        "\n",
        "## compute range distance and incidence angle\n",
        "\n",
        "r0, theta_inc = compute_r0_thetainc(rE,hSat,theta_look)\n",
        "\n",
        "## compute swath with precise formula\n",
        "\n",
        "swath_spc = hSat*(np.tan(np.max(theta_inc))-np.tan(np.min(theta_inc)))\n",
        "\n",
        "# compute swath approximation\n",
        "theta_el = np.max(theta_inc) - np.min(theta_inc)\n",
        "idx = int(r0.size/2)\n",
        "swath_approx = r0[idx] * theta_el / np.sin(theta_inc[idx])\n",
        "\n",
        "print(np.min(theta_inc)*180/np.pi)\n",
        "print(np.max(theta_inc)*180/np.pi)\n",
        "print((np.min(theta_inc)-theta_look[0])/theta_look[0]*100)\n",
        "print((np.max(theta_inc)-theta_look[1023])/theta_look[1023]*100)\n",
        "\n",
        "print('Swath spaceborne:')\n",
        "print(swath_spc)\n",
        "print('Swath spaceborne approximated:')\n",
        "print(swath_approx)\n",
        "print('Approximation error in percentage:')\n",
        "print(abs(swath_spc - swath_approx)/swath_spc * 100)\n"
      ],
      "metadata": {
        "colab": {
          "base_uri": "https://localhost:8080/"
        },
        "id": "07JhK85PfaJz",
        "outputId": "326f62d7-8207-4c37-eb4d-5ceb97ba891c"
      },
      "execution_count": null,
      "outputs": [
        {
          "output_type": "stream",
          "name": "stdout",
          "text": [
            "21.691793243545547\n",
            "69.31330045186216\n",
            "8.458966217727728\n",
            "15.59742616076035\n",
            "Swath spaceborne:\n",
            "1156756.921649451\n",
            "Swath spaceborne approximated:\n",
            "827062.9762060196\n",
            "Approximation error in percentage:\n",
            "28.501575332984547\n"
          ]
        }
      ]
    },
    {
      "cell_type": "markdown",
      "source": [
        "For Spaceborne System: According to the graph in ex.1 incident angle should be high. In our case, it is 21.69 degree and 69.313 degree for near and far range respectively."
      ],
      "metadata": {
        "id": "Kpe5rzWFf5YT"
      }
    },
    {
      "cell_type": "markdown",
      "source": [
        "Compute the coverage rate in km^2/s of the previous systems. Assume a footprint velocity of 100 m/s and 7000 m/s for the airborne and the spaceborne, respectively."
      ],
      "metadata": {
        "id": "pNjF1qEZf6lv"
      }
    },
    {
      "cell_type": "code",
      "source": [
        "#vg_air = 120  # [m/s]\n",
        "vg_air = 100  # [m/s]\n",
        "vg_spc = 7e3  # [m/s]\n",
        "\n",
        "## Compute coverage for the two systems \n",
        "# airborne system\n",
        "coverage_air = swath_air*vg_air/1e6   #km^2/s\n",
        "\n",
        "# spaceborne system\n",
        "coverage_spc = swath_spc*vg_spc/1e6    #km^2/s\n",
        "\n",
        "print('Coverage for an airborne system [km^2/s]:')\n",
        "print(coverage_air)\n",
        "print('Coverage for a spaceborne system [km^2/s]:')\n",
        "print(coverage_spc)"
      ],
      "metadata": {
        "colab": {
          "base_uri": "https://localhost:8080/"
        },
        "id": "bzZuCtlYgJg1",
        "outputId": "f4b651fe-0dde-49a6-c938-f2d2a64acd73"
      },
      "execution_count": null,
      "outputs": [
        {
          "output_type": "stream",
          "name": "stdout",
          "text": [
            "Coverage for an airborne system [km^2/s]:\n",
            "0.4105257160018027\n",
            "Coverage for a spaceborne system [km^2/s]:\n",
            "8097.298451546156\n"
          ]
        }
      ]
    },
    {
      "cell_type": "markdown",
      "source": [
        "Compute the echo window length, echo window position, range sampling and pulse repetition frequency of a side-looking airborne radar geometry, assuming a real aperture system flying at 100 m/s, operated at Ku-band with 100 MHz and a 3 m antenna. Discuss the results."
      ],
      "metadata": {
        "id": "3edkMhhhhLtK"
      }
    },
    {
      "cell_type": "code",
      "source": [
        "def compute_r0_thetainc(rE, h, theta_look):\n",
        "    b    = (rE + h) * 2 * np.cos(theta_look)\n",
        "    c    = -(rE**2 - (rE + h)**2)\n",
        "    r0   = (b - np.sqrt(b**2 - 4 * c)) * 0.5\n",
        "    theta_inc   = np.arccos(((rE + h)**2 - rE**2 - r0**2)/(2 * r0 * rE))\n",
        "    return r0, theta_inc\n",
        "c0=constants.c\n",
        "\n",
        "\n",
        "N    = 1024\n",
        "theta_look = (0. + np.arange(N) / N * 65.) * np.pi / 180.\n",
        "rE   = 6371.e3  # Earth radius\n",
        "hAir = 6e-6  #6000m   \n",
        "r0, theta_inc_air = compute_r0_thetainc(rE,hAir,theta_look)\n",
        " \n",
        "f0=100   #MHz\n",
        "t0=1/f0  #microseconds\n",
        "wl =c0/(f0*1e6)  #m\n",
        "\n",
        "\n",
        "tp=0.7    # 0.7 microseconds\n",
        "\n",
        "#echo window length\n",
        "t_EWL=(2*(np.max(r0)-np.min(r0))/c0)*1e6+tp  #micrseconds \n",
        "print('Echo Window Length in microseconds:')\n",
        "print(t_EWL)\n",
        "\n",
        "#Echo window position\n",
        "EWP =(2*np.min(r0)/c0)*1e6  # near range\n",
        "\n",
        "print('Echo window position in microseconds:')\n",
        "print(EWP)\n",
        "\n",
        "#Range sampling frequency:\n",
        "#Br=1/(1*1e-6) #Hz\n",
        "#RSF=Br*1e-6   #MHz\n",
        "\n",
        "RSF=100  #100 MHz\n",
        "print('Range sampling frequency in MHz:')\n",
        "print(RSF) \n",
        "\n",
        "#Pulse Repetition Frequency:\n",
        "vg=100  #m/s\n",
        "L=3     #m\n",
        "r=np.min(r0)\n",
        "PRF=((vg*L)/(r*wl))*1e-6   # Hz to MHz\n",
        "print('Pulse Repetition Frequency in MHz:')\n",
        "print(PRF)   \n",
        "\n",
        "#Pulse Repetition  Interval\n",
        "PRI=1/PRF  #microseconds\n",
        "print('Pulse Repetition  Interval in microseconds:')\n",
        "print(PRI)\n",
        "\n",
        "## compute swath using the precise formula\n",
        "r0, theta_inc = compute_r0_thetainc(rE,hAir,theta_look)\n",
        "swath_air = hAir*(np.tan(np.max(theta_inc))-np.tan(np.min(theta_inc)))\n",
        "print(swath_air)\n"
      ],
      "metadata": {
        "colab": {
          "base_uri": "https://localhost:8080/"
        },
        "id": "xY3JwtZLhNEU",
        "outputId": "524af925-84f8-4709-e735-ced56c793680"
      },
      "execution_count": null,
      "outputs": [
        {
          "output_type": "stream",
          "name": "stdout",
          "text": [
            "Echo Window Length in microseconds:\n",
            "0.7000000544548503\n",
            "Echo window position in microseconds:\n",
            "4.0024889656649816e-08\n",
            "Range sampling frequency in MHz:\n",
            "100\n",
            "Pulse Repetition Frequency in MHz:\n",
            "16.679372244596713\n",
            "Pulse Repetition  Interval in microseconds:\n",
            "0.059954294762139516\n",
            "1.2794247054348892e-05\n"
          ]
        }
      ]
    },
    {
      "cell_type": "markdown",
      "source": [
        "We have assumed the transmitted pulse to be 0.7 microseconds. With this we got the above results. And also PRI=59958491.6 microseconds which is greater than both echo window length and tranmitted pulse. Additionally swath is determined by using precise formula which is 12897.68.\n"
      ],
      "metadata": {
        "id": "qBVEC7znhuuv"
      }
    },
    {
      "cell_type": "markdown",
      "source": [
        "Compute the echo window length, echo window position, and PRF of an X-band spaceborne SAR system flying at 514 km with a 4.7 m antenna and illuminating a swath of 30 km around 35 deg incidence. Discuss the results."
      ],
      "metadata": {
        "id": "ZLgXaj49hwhf"
      }
    },
    {
      "cell_type": "code",
      "source": [
        "c0=299792458 #[m/s]\n",
        "L_a=4.7 #[m]\n",
        "t_p=5e-6 #[μs]\n",
        "i_max=40 #[degree]\n",
        "i_min=30 #[degree]\n",
        "r0_max=(c0*t_p)/2*np.sin(i_max) #[km]\n",
        "r0_min=(c0*t_p)/2*np.sin(i_min) #[km]\n",
        "v_g=7000 #[m/s]\n",
        "\n",
        "t_ewl=(2*(r0_max-r0_min)/c0)+t_p\n",
        "t_ewp=(2*r0_min/c0)+t_p\n",
        "prf=(2*v_g)/L_a\n",
        "\n",
        "print('Echo Window Length')\n",
        "print(t_ewl)\n",
        "print('Echo Window Position')\n",
        "print(t_ewp)\n",
        "print('Pulse Repetition Frequency')\n",
        "print(prf)"
      ],
      "metadata": {
        "colab": {
          "base_uri": "https://localhost:8080/"
        },
        "id": "EUWFrVPSh3Jj",
        "outputId": "7089df34-3a27-4960-8bb5-eae626768e15"
      },
      "execution_count": null,
      "outputs": [
        {
          "output_type": "stream",
          "name": "stdout",
          "text": [
            "Echo Window Length\n",
            "1.3665723922861054e-05\n",
            "Echo Window Position\n",
            "5.98418795356914e-08\n",
            "Pulse Repetition Frequency\n",
            "2978.723404255319\n"
          ]
        }
      ]
    },
    {
      "cell_type": "markdown",
      "source": [
        "Here c0 is the velocity of propagation of the radar signals, t_p is a typical short pulse length in μs. In case of Echo Window Position minimum r0 is used as because EWP is the time between the pulse and the first echo. Hence minimum first echo might come from the shorest slant range. The PRF value tells us how many pulses of a signal are repeated in one second."
      ],
      "metadata": {
        "id": "rlald-hyiCzT"
      }
    },
    {
      "cell_type": "markdown",
      "source": [
        "Compute the range resolution in slant and on ground for the airborne system described in exercise 1."
      ],
      "metadata": {
        "id": "C350GsIViGBC"
      }
    },
    {
      "cell_type": "code",
      "source": [
        "c0=constants.c #m/s\n",
        "Br= 100/ 1e-6 #MHz  #RSF>= Br\n",
        "#range resolution in slant\n",
        "def compute_delr (c0,Br):\n",
        "    delr= c0/2 *Br\n",
        "    return delr\n",
        "delr= compute_delr(c0,Br) #m\n",
        "print ('Range Resolution in Slant')\n",
        "print (delr)  #m\n",
        "\n",
        "#range resolution on ground\n",
        "def compute_r0_thetainc(rE, h, theta_look):\n",
        "    b    = (rE + h) * 2 * np.cos(theta_look)\n",
        "    c    = -(rE**2 - (rE + h)**2)\n",
        "    r0   = (b - np.sqrt(b**2 - 4 * c)) * 0.5\n",
        "    theta_inc   = np.arccos(((rE + h)**2 - rE**2 - r0**2)/(2 * r0 * rE))\n",
        "    return r0, theta_inc\n",
        "N    = 1024\n",
        "theta_look = (30. + np.arange(N) / N * 40.) * np.pi / 180.\n",
        "rE   = 6371.e3  # Earth radius\n",
        "hAir = 6e-6  #6000m   \n",
        "r0, theta_inc_air = compute_r0_thetainc(rE,hAir,theta_look)\n",
        "\n",
        "         \n",
        "def compute_delrg(c0,Br,theta_inc_air):\n",
        "    delrg = c0/2 *Br * (np.tan(np.max(theta_inc_air)))-np.tan(np.min(theta_inc_air))\n",
        "    return delrg\n",
        "\n",
        "del_rg = compute_delrg(c0, Br, theta_inc_air)\n",
        "print ('Range Resolution on Ground')\n",
        "print (del_rg) #m\n"
      ],
      "metadata": {
        "colab": {
          "base_uri": "https://localhost:8080/"
        },
        "id": "ZMtNgnOXiKKN",
        "outputId": "5d220293-1a65-4e40-af39-359dbf925f68"
      },
      "execution_count": null,
      "outputs": [
        {
          "output_type": "stream",
          "name": "stdout",
          "text": [
            "Range Resolution in Slant\n",
            "1.49896229e+16\n",
            "Range Resolution on Ground\n",
            "4.109618209680588e+16\n"
          ]
        }
      ]
    },
    {
      "cell_type": "markdown",
      "source": [
        "If the value of Br becomes smaller the range resolution in slant as well as the range resolution on ground also becomes smaller. However, changes in look angle doesn't effect the value of the range resolution in slant. It only affects range resolution on ground. IF we fixed the higher value of the look angle, if the lower value increases, the range resolution on the ground increases too. Similar, relations found if we fixed the lower value and make changes in the higher"
      ],
      "metadata": {
        "id": "-fwXhMbTidWE"
      }
    },
    {
      "cell_type": "markdown",
      "source": [
        "For the spaceborne system in exercise 2, compute the PRF, the azimuth resolution and discuss the results."
      ],
      "metadata": {
        "id": "3imsayONif8f"
      }
    },
    {
      "cell_type": "code",
      "source": [
        "L_a=4.7 #[m]\n",
        "v_g=7000 #[m/s]\n",
        "A_R = L_a/2 #[m]\n",
        "PRF = (2*v_g)/L_a #[hz]\n",
        "print(f'The azimuth resolution is: {A_R} m')\n",
        "print(f'The Pulse Repetition Frequency is : {PRF} hz')"
      ],
      "metadata": {
        "colab": {
          "base_uri": "https://localhost:8080/"
        },
        "id": "kQydugY8iqsI",
        "outputId": "1e71f28c-4f85-4ed4-fb3c-af5a411404e0"
      },
      "execution_count": null,
      "outputs": [
        {
          "output_type": "stream",
          "name": "stdout",
          "text": [
            "The azimuth resolution is: 2.35 m\n",
            "The Pulse Repetition Frequency is : 2978.723404255319 hz\n"
          ]
        }
      ]
    },
    {
      "cell_type": "markdown",
      "source": [
        "We assumed v_g to be 7000 m/s. The computed results are: For an X-band spaceborne SAR system the azimmuth resolution is 2.35 m which is the half of antenna size and PRF is 2978.723404255319 hz."
      ],
      "metadata": {
        "id": "Nhh5hjrni3ON"
      }
    }
  ]
}